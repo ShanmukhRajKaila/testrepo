{
 "cells": [
  {
   "cell_type": "code",
   "execution_count": 1,
   "id": "6b897f09-070d-4dac-814c-d8530d2eb9b4",
   "metadata": {},
   "outputs": [
    {
     "data": {
      "text/plain": [
       "2"
      ]
     },
     "execution_count": 1,
     "metadata": {},
     "output_type": "execute_result"
    }
   ],
   "source": [
    "1 + 1"
   ]
  },
  {
   "cell_type": "code",
   "execution_count": 2,
   "id": "5377cf47-9e74-4abb-ae5d-c80f0112da84",
   "metadata": {},
   "outputs": [],
   "source": [
    "one = 1\n",
    "two = 2\n",
    "three = one + two"
   ]
  },
  {
   "cell_type": "code",
   "execution_count": 3,
   "id": "8857e002-9a21-488a-9213-13fd08c460da",
   "metadata": {},
   "outputs": [
    {
     "name": "stdout",
     "output_type": "stream",
     "text": [
      "My first equuation in Jupyter: 3\n"
     ]
    }
   ],
   "source": [
    "print(\"My first equuation in Jupyter: \" + str(three))"
   ]
  },
  {
   "cell_type": "markdown",
   "id": "b976ae28-fd1b-4f81-9d61-91f6a196c086",
   "metadata": {},
   "source": [
    "## My First Lab ##\n",
    "Jupyter Python Lab "
   ]
  },
  {
   "cell_type": "code",
   "execution_count": null,
   "id": "5405ef82-0724-43ca-aa47-c9da8f0bbab0",
   "metadata": {},
   "outputs": [],
   "source": []
  }
 ],
 "metadata": {
  "kernelspec": {
   "display_name": "Python",
   "language": "python",
   "name": "conda-env-python-py"
  },
  "language_info": {
   "codemirror_mode": {
    "name": "ipython",
    "version": 3
   },
   "file_extension": ".py",
   "mimetype": "text/x-python",
   "name": "python",
   "nbconvert_exporter": "python",
   "pygments_lexer": "ipython3",
   "version": "3.7.12"
  }
 },
 "nbformat": 4,
 "nbformat_minor": 5
}
